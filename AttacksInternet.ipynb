{
 "cells": [
  {
   "cell_type": "code",
   "execution_count": 120,
   "metadata": {
    "collapsed": true
   },
   "outputs": [],
   "source": [
    "# importer les modules\n",
    "%matplotlib inline\n",
    "import csv, math\n",
    "import numpy as np\n",
    "import pandas as pd\n",
    "import matplotlib.pyplot as plt\n",
    "from sklearn.decomposition import PCA\n",
    "\n",
    "import scipy.stats\n",
    "\n",
    "\n",
    "from scipy.cluster.vq import kmeans, vq\n",
    "from statsmodels.sandbox.tools.tools_pca import pcasvd\n"
   ]
  },
  {
   "cell_type": "code",
   "execution_count": 121,
   "metadata": {
    "collapsed": false
   },
   "outputs": [],
   "source": [
    "# Lecture des fichiers texte en CSV\n",
    "# ouvrir et lire le fichier concerne\n",
    "fichier =\"liste2.csv\"\n",
    "fichier_lire=open(fichier,\"r\")\n",
    "csv = pd.read_csv(fichier_lire,delimiter=\",\")\n",
    "#fichier_csv = csv.reader(fichier_lire,delimiter=\",\")\n",
    "#tab=list(csv) \n",
    "\n",
    "mvector=np.asarray(csv)\n",
    "M=mvector[1:,:]\n",
    "\n"
   ]
  },
  {
   "cell_type": "code",
   "execution_count": 122,
   "metadata": {
    "collapsed": false
   },
   "outputs": [
    {
     "name": "stdout",
     "output_type": "stream",
     "text": [
      "(294, 10)\n"
     ]
    }
   ],
   "source": [
    "#fichier_lire=open(fichier,\"r\")\n",
    "#csv = pd.read_csv(fichier_lire,delimiter=\",\")\n",
    "x_mean=csv.mean()\n",
    "\n",
    "mean=np.asarray(x_mean)\n",
    "#print(mean)\n",
    "cov=np.cov(M.astype(np.float),rowvar=0)\n",
    "cov_std=cov-mean/np.std(cov)\n",
    "#print(cov)\n",
    "#print(mvector[1:,:].shape)\n",
    "print(M.shape)"
   ]
  },
  {
   "cell_type": "code",
   "execution_count": 123,
   "metadata": {
    "collapsed": false
   },
   "outputs": [
    {
     "data": {
      "image/png": "[encoded data removed]",
      "text/plain": [
       "<matplotlib.figure.Figure at 0xb3be04cc>"
      ]
     },
     "metadata": {},
     "output_type": "display_data"
    }
   ],
   "source": [
    "pca_full=PCA()\n",
    "pca_full.fit_transform(cov_std)\n",
    "ratio=pca_full.explained_variance_ratio_\n",
    "\n",
    "\n",
    "#Variane expliquée cumulée\n",
    "cumulative=np.cumsum(ratio)\n",
    "plt.plot(cumulative,'yo')\n",
    "plt.plot(cumulative,'y')\n",
    "plt.plot(ratio,'ro')\n",
    "plt.plot(ratio,'r')\n",
    "plt.show()\n"
   ]
  },
  {
   "cell_type": "code",
   "execution_count": 125,
   "metadata": {
    "collapsed": false
   },
   "outputs": [
    {
     "name": "stdout",
     "output_type": "stream",
     "text": [
      "(10, 294)\n",
      "(10,)\n"
     ]
    }
   ],
   "source": [
    "#eig_attr=np.linalg.eigvals(cov)\n",
    "#V=W.dot(M.transpose())\n",
    "pca_final =PCA(n_components=2)\n",
    "loadings=pca_final.fit_transform(cov)\n",
    "\n",
    "\n",
    "P=pca_final.components_.transpose()\n",
    "Pt=P.transpose()\n",
    "C=P.dot(Pt) #matrice 12x12\n",
    "#C=loadings.dot(loadings.transpose())\n",
    "Ctild=np.eye(10,10)-C\n",
    "Y_mod=C.dot(M.transpose())\n",
    "Y_res=Ctild.dot(M.transpose())\n",
    "print(Y_mod.shape)\n",
    "\n",
    "np.linalg.norm(pca_final.components_.transpose()[0])\n",
    "#les vecteurs y_mod sont en colonne de Y_mod\n",
    "print(Y_res[:,0].shape)\n",
    "#print(Y_res[:,0])\n",
    "#for i in range(len(Y_res[0])):\n",
    "#    print(np.linalg.norm(Y_res[:,i])**2,i)\n",
    "        \n",
    "#print(loadings.transpose().dot(M[0,:]))\n",
    "\n"
   ]
  },
  {
   "cell_type": "code",
   "execution_count": 126,
   "metadata": {
    "collapsed": false
   },
   "outputs": [],
   "source": [
    "def biplot(score,coeff,pcax,pcay,labels=None):\n",
    "    pca1=pcax-1\n",
    "    pca2=pcay-1\n",
    "    xs = score[:,pca1]\n",
    "    ys = score[:,pca2]\n",
    "    n=score.shape[1]\n",
    " \n",
    "    scalex = 1.0/(xs.max()- xs.min())\n",
    "    scaley = 1.0/(ys.max()- ys.min())\n",
    "    plt.scatter(xs*scalex,ys*scaley)\n",
    "    for i in range(n):\n",
    "        plt.arrow(0, 0, coeff[i,pca1], coeff[i,pca2],color='r',alpha=0.5) \n",
    "        if labels is None:\n",
    "            plt.text(coeff[i,pca1]* 1.15, coeff[i,pca2] * 1.15, \"Var\"+str(i+1), color='g', ha='center', va='center')\n",
    "        else:\n",
    "            plt.text(coeff[i,pca1]* 1.15, coeff[i,pca2] * 1.15, labels[i], color='g', ha='center', va='center')\n",
    "    plt.xlim(-1,1)\n",
    "    plt.ylim(-1,1)\n",
    "    plt.xlabel(\"PC{}\".format(pcax))\n",
    "    plt.ylabel(\"PC{}\".format(pcay))\n",
    "    plt.grid()\n",
    "    plt.show()"
   ]
  },
  {
   "cell_type": "code",
   "execution_count": 127,
   "metadata": {
    "collapsed": false
   },
   "outputs": [
    {
     "data": {
      "image/png": "[encoded data removed]",
      "text/plain": [
       "<matplotlib.figure.Figure at 0xa7d61a4c>"
      ]
     },
     "metadata": {},
     "output_type": "display_data"
    }
   ],
   "source": [
    "biplot(loadings,pca_final.components_,1,2)"
   ]
  },
  {
   "cell_type": "code",
   "execution_count": 128,
   "metadata": {
    "collapsed": false
   },
   "outputs": [
    {
     "data": {
      "image/png": "[encoded data removed]",
      "text/plain": [
       "<matplotlib.figure.Figure at 0xa741e54c>"
      ]
     },
     "metadata": {},
     "output_type": "display_data"
    }
   ],
   "source": [
    "\n",
    "loads=pca_final.fit_transform(cov)\n",
    "xvector = pca_final.components_[0] # see 'prcomp(my_data)$rotation' in R\n",
    "yvector = pca_final.components_[1]\n",
    "\n",
    "xs = loadings[:,0] # see 'prcomp(my_data)$x' in R\n",
    "ys = loadings[:,1]\n",
    "\n",
    "\n",
    "\n",
    "## visualize projections\n",
    "    \n",
    "## Note: scale values for arrows and text are a bit inelegant as of now,\n",
    "##       so feel free to play around with them\n",
    "\n",
    "for i in range(len(xvector)):\n",
    "# arrows project features (ie columns from csv) as vectors onto PC axes\n",
    "    plt.arrow(0, 0, xvector[i]*max(xs), yvector[i]*max(ys),\n",
    "              color='r', width=0.0005, head_width=0.0025)\n",
    "    plt.text(xvector[i]*max(xs)*1.2, yvector[i]*max(ys)*1.2,\n",
    "            list(csv.columns.values)[i], color='r')\n",
    "\n",
    "for i in range(len(xs)):\n",
    "# circles project documents (ie rows from csv) as points onto PC axes\n",
    "    plt.plot(xs[i], ys[i], 'bo')\n",
    "    plt.text(xs[i]*1.2, ys[i]*1.2, list(csv.index)[i], color='b')\n",
    "\n",
    "plt.show()"
   ]
  },
  {
   "cell_type": "code",
   "execution_count": 129,
   "metadata": {
    "collapsed": false
   },
   "outputs": [
    {
     "name": "stdout",
     "output_type": "stream",
     "text": [
      "3.66473632879e-14\n"
     ]
    }
   ],
   "source": [
    "r=2 #Le nombre de composantes principales à garder \n",
    "phi1=sum(ratio[r:12])\n",
    "phi2=sum(ratio[r:12]**2)\n",
    "phi3=sum(ratio[r:12]**3)\n",
    "h0=1-2*(phi1*phi3/(3*phi2**2))\n",
    "\n",
    "#Calcul de c_alpha\n",
    "\n",
    "alpha=0.1# Niveau de confiance \n",
    "normal=scipy.stats.norm(0,1) # Loi normale standard \n",
    "c_alpha=normal.ppf(1-alpha)\n",
    "\n",
    "delta_alpha=phi1*(c_alpha*math.sqrt(2*phi2*h0**2)/phi1 + 1 + (phi2*h0*(h0-1))/phi1**2)**(1/2*h0)\n",
    "print(delta_alpha)\n"
   ]
  },
  {
   "cell_type": "code",
   "execution_count": 130,
   "metadata": {
    "collapsed": false
   },
   "outputs": [],
   "source": [
    "mat_norm=[]\n",
    "mat_anom=[]\n",
    "for i in range(len(Y_res[0])):\n",
    "    if (np.linalg.norm(Y_res[:,i])**2 <= delta_alpha**2):\n",
    "        mat_norm.append(Y_res[:,i])\n",
    "    else:\n",
    "        mat_anom.append(Y_res[:,i])\n",
    "\n"
   ]
  },
  {
   "cell_type": "code",
   "execution_count": 131,
   "metadata": {
    "collapsed": false
   },
   "outputs": [
    {
     "name": "stdout",
     "output_type": "stream",
     "text": [
      "[]\n"
     ]
    }
   ],
   "source": [
    "print(mat_norm)"
   ]
  },
  {
   "cell_type": "code",
   "execution_count": 132,
   "metadata": {
    "collapsed": false
   },
   "outputs": [
    {
     "data": {
      "image/png": "[encoded data removed]",
      "text/plain": [
       "<matplotlib.figure.Figure at 0xa74b690c>"
      ]
     },
     "metadata": {},
     "output_type": "display_data"
    }
   ],
   "source": [
    "unit1=loadings[:,0]/np.linalg.norm(loadings[:,0])\n",
    "unit2=loadings[:,1]/np.linalg.norm(loadings[:,1])\n",
    "\n",
    "#U=np.array([unit1,unit2]).transpose()\n",
    "\n",
    "\n",
    "scalex = 1.0/(xs.max()- xs.min())\n",
    "scaley = 1.0/(ys.max()- ys.min())\n",
    "plt.scatter(xs*scalex,ys*scaley)\n",
    "for i in range (len(unit1)):\n",
    "    plt.plot(unit1[i],unit2[i], 'r.')\n",
    "theta=np.linspace(0,2*np.pi,40)    \n",
    "x=np.cos(theta)\n",
    "y=np.sin(theta)\n",
    "plt.plot(x,y,'y')\n",
    "plt.xlim(-1,1)\n",
    "plt.ylim(-1,1)\n",
    "plt.xlabel(\"PC{}\".format(1))\n",
    "plt.ylabel(\"PC{}\".format(2))\n",
    "plt.grid()\n",
    "plt.show()"
   ]
  },
  {
   "cell_type": "code",
   "execution_count": 133,
   "metadata": {
    "collapsed": false
   },
   "outputs": [],
   "source": [
    "for i in range(len(Y_res[0])):\n",
    "    if((np.linalg.norm(Y_res[:,i])**2,i)>(np.linalg.norm(Y_mod[:,i])**2,i)):\n",
    "        print(i)"
   ]
  },
  {
   "cell_type": "code",
   "execution_count": null,
   "metadata": {
    "collapsed": true
   },
   "outputs": [],
   "source": []
  },
  {
   "cell_type": "code",
   "execution_count": null,
   "metadata": {
    "collapsed": true
   },
   "outputs": [],
   "source": []
  }
 ],
 "metadata": {
  "anaconda-cloud": {},
  "kernelspec": {
   "display_name": "Python [Root]",
   "language": "python",
   "name": "Python [Root]"
  },
  "language_info": {
   "codemirror_mode": {
    "name": "ipython",
    "version": 3
   },
   "file_extension": ".py",
   "mimetype": "text/x-python",
   "name": "python",
   "nbconvert_exporter": "python",
   "pygments_lexer": "ipython3",
   "version": "3.5.2"
  }
 },
 "nbformat": 4,
 "nbformat_minor": 0
}
